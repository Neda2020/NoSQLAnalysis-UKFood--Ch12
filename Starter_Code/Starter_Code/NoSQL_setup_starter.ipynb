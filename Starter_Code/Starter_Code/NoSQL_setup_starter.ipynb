{
 "cells": [
  {
   "cell_type": "markdown",
   "id": "9a57c4c6",
   "metadata": {},
   "source": [
    "# Eat Safe, Love"
   ]
  },
  {
   "cell_type": "markdown",
   "id": "064ef857",
   "metadata": {},
   "source": [
    "## Part 1: Database and Jupyter Notebook Set Up"
   ]
  },
  {
   "cell_type": "markdown",
   "id": "664e3c1f",
   "metadata": {},
   "source": [
    "Import the data provided in the `establishments.json` file from your Terminal. Name the database `uk_food` and the collection `establishments`.\n",
    "\n",
    "Within this markdown cell, copy the line of text you used to import the data from your Terminal. This way, future analysts will be able to repeat your process.\n",
    "\n",
    "e.g.: Import the dataset with `mongoimport --uri=\"mongodb://localhost:27017\" --type json -d uk_food -c establishments --drop --jsonArray \"D:\\UOFT\\All Challenges & Projects-UOFT\\Ch12\\Starter_Code\\Starter_Code\\Resources\\establishments.json\"`"
   ]
  },
  {
   "cell_type": "code",
   "execution_count": 1,
   "id": "3ecdd008",
   "metadata": {},
   "outputs": [],
   "source": [
    "# Import dependencies\n",
    "from pymongo import MongoClient\n",
    "from pprint import pprint"
   ]
  },
  {
   "cell_type": "code",
   "execution_count": 5,
   "id": "59390c4a",
   "metadata": {},
   "outputs": [],
   "source": [
    "# Create an instance of MongoClient\n",
    "mongo = MongoClient(port=27017)"
   ]
  },
  {
   "cell_type": "code",
   "execution_count": null,
   "id": "7f9ececa",
   "metadata": {},
   "outputs": [
    {
     "name": "stdout",
     "output_type": "stream",
     "text": [
      "Databases in Mongo\n",
      "['admin', 'config', 'met', 'uk_food']\n"
     ]
    }
   ],
   "source": [
    "# confirm that our new database was created\n",
    "databases = mongo.list_database_names()\n",
    "print(\"Databases in Mongo\")\n",
    "pprint(databases)   "
   ]
  },
  {
   "cell_type": "code",
   "execution_count": 7,
   "id": "71e373c1",
   "metadata": {},
   "outputs": [],
   "source": [
    "# assign the uk_food database to a variable name\n",
    "db = mongo['uk_food']"
   ]
  },
  {
   "cell_type": "code",
   "execution_count": 8,
   "id": "ef1b89ed",
   "metadata": {},
   "outputs": [
    {
     "name": "stdout",
     "output_type": "stream",
     "text": [
      "collections in 'uk_food:\n",
      "['establishments']\n"
     ]
    }
   ],
   "source": [
    "# review the collections in our new database\n",
    "collections = db.list_collection_names()\n",
    "print(\"collections in 'uk_food:\")\n",
    "pprint(collections)"
   ]
  },
  {
   "cell_type": "code",
   "execution_count": null,
   "id": "96a3dc47",
   "metadata": {},
   "outputs": [],
   "source": [
    "# assign the collection to a variable\n",
    "establishments = db['establishments']"
   ]
  },
  {
   "cell_type": "code",
   "execution_count": 10,
   "id": "6a0d92df",
   "metadata": {},
   "outputs": [
    {
     "name": "stdout",
     "output_type": "stream",
     "text": [
      "Sample document from 'establishments':\n",
      "{'AddressLine1': 'The Bay',\n",
      " 'AddressLine2': 'St Margarets Bay',\n",
      " 'AddressLine3': 'Kent',\n",
      " 'AddressLine4': '',\n",
      " 'BusinessName': 'Refreshment Kiosk',\n",
      " 'BusinessType': 'Restaurant/Cafe/Canteen',\n",
      " 'BusinessTypeID': 1,\n",
      " 'ChangesByServerID': 0,\n",
      " 'Distance': 4587.347174863443,\n",
      " 'FHRSID': 254719,\n",
      " 'LocalAuthorityBusinessID': 'PI/000069980',\n",
      " 'LocalAuthorityCode': '182',\n",
      " 'LocalAuthorityEmailAddress': 'publicprotection@dover.gov.uk',\n",
      " 'LocalAuthorityName': 'Dover',\n",
      " 'LocalAuthorityWebSite': 'http://www.dover.gov.uk/',\n",
      " 'NewRatingPending': False,\n",
      " 'Phone': '',\n",
      " 'PostCode': 'CT15 6DY',\n",
      " 'RatingDate': '2022-03-24T00:00:00',\n",
      " 'RatingKey': 'fhrs_5_en-gb',\n",
      " 'RatingValue': '5',\n",
      " 'RightToReply': '',\n",
      " 'SchemeType': 'FHRS',\n",
      " '_id': ObjectId('6740aa492e0018c3277045be'),\n",
      " 'geocode': {'latitude': '51.152225', 'longitude': '1.387974'},\n",
      " 'links': [{'href': 'https://api.ratings.food.gov.uk/establishments/254719',\n",
      "            'rel': 'self'}],\n",
      " 'meta': {'dataSource': None,\n",
      "          'extractDate': '0001-01-01T00:00:00',\n",
      "          'itemCount': 0,\n",
      "          'pageNumber': 0,\n",
      "          'pageSize': 0,\n",
      "          'returncode': None,\n",
      "          'totalCount': 0,\n",
      "          'totalPages': 0},\n",
      " 'scores': {'ConfidenceInManagement': 5, 'Hygiene': 0, 'Structural': 5}}\n"
     ]
    }
   ],
   "source": [
    "# review a document in the establishments collection\n",
    "print(\"Sample document from 'establishments':\")\n",
    "pprint(establishments.find_one())"
   ]
  },
  {
   "cell_type": "markdown",
   "id": "d5671434",
   "metadata": {},
   "source": [
    "## Part 2: Update the Database"
   ]
  },
  {
   "cell_type": "markdown",
   "id": "314bd884",
   "metadata": {},
   "source": [
    "1. An exciting new halal restaurant just opened in Greenwich, but hasn't been rated yet. The magazine has asked you to include it in your analysis. Add the following restaurant \"Penang Flavours\" to the database."
   ]
  },
  {
   "cell_type": "code",
   "execution_count": 11,
   "id": "c2da7648",
   "metadata": {},
   "outputs": [],
   "source": [
    "# Create a dictionary for the new restaurant data\n",
    "new_restaurant = {\n",
    "    \"BusinessName\": \"Penang Flavours\",\n",
    "    \"BusinessType\": \"Restaurant/Cafe/Canteen\",\n",
    "    \"AddressLine1\": \"123 Greenwich Ave\",\n",
    "    \"AddressLine2\": \"\",\n",
    "    \"AddressLine3\": \"Greenwich\",\n",
    "    \"AddressLine4\": \"\",\n",
    "    \"PostCode\": \"SE10 9LN\",\n",
    "    \"Phone\": \"02012345678\",\n",
    "    \"RatingValue\": \"Awaiting Inspection\",\n",
    "    \"RatingKey\": None,\n",
    "    \"RatingDate\": None,\n",
    "    \"LocalAuthorityCode\": \"123\",\n",
    "    \"LocalAuthorityName\": \"Greenwich\",\n",
    "    \"LocalAuthorityWebSite\": \"http://www.greenwich.gov.uk/\",\n",
    "    \"LocalAuthorityEmailAddress\": \"info@greenwich.gov.uk\",\n",
    "    \"scores\": {\n",
    "        \"Hygiene\": None,\n",
    "        \"Structural\": None,\n",
    "        \"ConfidenceInManagement\": None\n",
    "    },\n",
    "    \"geocode\": {\n",
    "        \"longitude\": None,\n",
    "        \"latitude\": None\n",
    "    },\n",
    "    \"RightToReply\": \"\",\n",
    "    \"Distance\": None,\n",
    "    \"SchemeType\": \"FHRS\"\n",
    "}\n"
   ]
  },
  {
   "cell_type": "code",
   "execution_count": 12,
   "id": "a6e5cece",
   "metadata": {},
   "outputs": [
    {
     "name": "stdout",
     "output_type": "stream",
     "text": [
      "Inserted new restaurant with ID: 6740b6660215e466c1ab0a0e\n"
     ]
    }
   ],
   "source": [
    "# Insert the new restaurant into the collection\n",
    "insert_result = establishments.insert_one(new_restaurant)\n",
    "print(f\"Inserted new restaurant with ID: {insert_result.inserted_id}\")"
   ]
  },
  {
   "cell_type": "code",
   "execution_count": 13,
   "id": "63bb10f9",
   "metadata": {},
   "outputs": [
    {
     "name": "stdout",
     "output_type": "stream",
     "text": [
      "New resturant added:\n",
      "{'AddressLine1': '123 Greenwich Ave',\n",
      " 'AddressLine2': '',\n",
      " 'AddressLine3': 'Greenwich',\n",
      " 'AddressLine4': '',\n",
      " 'BusinessName': 'Penang Flavours',\n",
      " 'BusinessType': 'Restaurant/Cafe/Canteen',\n",
      " 'Distance': None,\n",
      " 'LocalAuthorityCode': '123',\n",
      " 'LocalAuthorityEmailAddress': 'info@greenwich.gov.uk',\n",
      " 'LocalAuthorityName': 'Greenwich',\n",
      " 'LocalAuthorityWebSite': 'http://www.greenwich.gov.uk/',\n",
      " 'Phone': '02012345678',\n",
      " 'PostCode': 'SE10 9LN',\n",
      " 'RatingDate': None,\n",
      " 'RatingKey': None,\n",
      " 'RatingValue': 'Awaiting Inspection',\n",
      " 'RightToReply': '',\n",
      " 'SchemeType': 'FHRS',\n",
      " '_id': ObjectId('6740b6660215e466c1ab0a0e'),\n",
      " 'geocode': {'latitude': None, 'longitude': None},\n",
      " 'scores': {'ConfidenceInManagement': None,\n",
      "            'Hygiene': None,\n",
      "            'Structural': None}}\n"
     ]
    }
   ],
   "source": [
    "# Check that the new restaurant was inserted\n",
    "print(\"New resturant added:\")\n",
    "pprint(establishments.find_one({\"BusinessName\": \"Penang Flavours\"}))\n"
   ]
  },
  {
   "cell_type": "markdown",
   "id": "0ef4395a",
   "metadata": {},
   "source": [
    "2. Find the BusinessTypeID for \"Restaurant/Cafe/Canteen\" and return only the `BusinessTypeID` and `BusinessType` fields."
   ]
  },
  {
   "cell_type": "code",
   "execution_count": 15,
   "id": "93c63829",
   "metadata": {},
   "outputs": [
    {
     "name": "stdout",
     "output_type": "stream",
     "text": [
      "BusinessTypeID for 'Restaurant/Cafe/Canteen':\n",
      "{'BusinessType': 'Restaurant/Cafe/Canteen', 'BusinessTypeID': 1}\n"
     ]
    }
   ],
   "source": [
    "# Find the BusinessTypeID for \"Restaurant/Cafe/Canteen\" and return only the BusinessTypeID and BusinessType fields\n",
    "result = establishments.find_one(\n",
    "    {\"BusinessType\": \"Restaurant/Cafe/Canteen\"},\n",
    "    {\"BusinessTypeID\": 1, \"BusinessType\": 1, \"_id\": 0}\n",
    ")\n",
    "print(\"BusinessTypeID for 'Restaurant/Cafe/Canteen':\")\n",
    "pprint(result)\n"
   ]
  },
  {
   "cell_type": "markdown",
   "id": "4e570caf",
   "metadata": {},
   "source": [
    "3. Update the new restaurant with the `BusinessTypeID` you found."
   ]
  },
  {
   "cell_type": "code",
   "execution_count": 16,
   "id": "7f599f3d",
   "metadata": {},
   "outputs": [
    {
     "name": "stdout",
     "output_type": "stream",
     "text": [
      "Updated documents: 1\n"
     ]
    }
   ],
   "source": [
    "# Update the new restaurant with the correct BusinessTypeID\n",
    "business_type_id = result['BusinessTypeID']\n",
    "update_result = establishments.update_one(\n",
    "    {\"BusinessName\": \"Penang Flavours\"},\n",
    "    {\"$set\": {\"BusinessTypeID\": business_type_id}}\n",
    ")\n",
    "print(f\"Updated documents: {update_result.modified_count}\")"
   ]
  },
  {
   "cell_type": "code",
   "execution_count": 17,
   "id": "a6ad16f7",
   "metadata": {},
   "outputs": [
    {
     "name": "stdout",
     "output_type": "stream",
     "text": [
      "Updated new restaurant:\n",
      "{'AddressLine1': '123 Greenwich Ave',\n",
      " 'AddressLine2': '',\n",
      " 'AddressLine3': 'Greenwich',\n",
      " 'AddressLine4': '',\n",
      " 'BusinessName': 'Penang Flavours',\n",
      " 'BusinessType': 'Restaurant/Cafe/Canteen',\n",
      " 'BusinessTypeID': 1,\n",
      " 'Distance': None,\n",
      " 'LocalAuthorityCode': '123',\n",
      " 'LocalAuthorityEmailAddress': 'info@greenwich.gov.uk',\n",
      " 'LocalAuthorityName': 'Greenwich',\n",
      " 'LocalAuthorityWebSite': 'http://www.greenwich.gov.uk/',\n",
      " 'Phone': '02012345678',\n",
      " 'PostCode': 'SE10 9LN',\n",
      " 'RatingDate': None,\n",
      " 'RatingKey': None,\n",
      " 'RatingValue': 'Awaiting Inspection',\n",
      " 'RightToReply': '',\n",
      " 'SchemeType': 'FHRS',\n",
      " '_id': ObjectId('6740b6660215e466c1ab0a0e'),\n",
      " 'geocode': {'latitude': None, 'longitude': None},\n",
      " 'scores': {'ConfidenceInManagement': None,\n",
      "            'Hygiene': None,\n",
      "            'Structural': None}}\n"
     ]
    }
   ],
   "source": [
    "# Confirm that the new restaurant was updated\n",
    "print(\"Updated new restaurant:\")\n",
    "pprint(establishments.find_one({\"BusinessName\": \"Penang Flavours\"}))"
   ]
  },
  {
   "cell_type": "markdown",
   "id": "67281254",
   "metadata": {},
   "source": [
    "4. The magazine is not interested in any establishments in Dover, so check how many documents contain the Dover Local Authority. Then, remove any establishments within the Dover Local Authority from the database, and check the number of documents to ensure they were deleted."
   ]
  },
  {
   "cell_type": "code",
   "execution_count": 18,
   "id": "768474a6",
   "metadata": {},
   "outputs": [
    {
     "name": "stdout",
     "output_type": "stream",
     "text": [
      "Documents with 'Dover' as LocalAuthorityName: 1988\n"
     ]
    }
   ],
   "source": [
    "# Find how many documents have LocalAuthorityName as \"Dover\"\n",
    "dover_count = establishments.count_documents({\"LocalAuthorityName\": \"Dover\"})\n",
    "print(f\"Documents with 'Dover' as LocalAuthorityName: {dover_count}\")"
   ]
  },
  {
   "cell_type": "code",
   "execution_count": 19,
   "id": "a11d5f1b",
   "metadata": {},
   "outputs": [
    {
     "name": "stdout",
     "output_type": "stream",
     "text": [
      "Deleted documents: 1988\n"
     ]
    }
   ],
   "source": [
    "# Delete all documents where LocalAuthorityName is \"Dover\"\n",
    "delete_result = establishments.delete_many({\"LocalAuthorityName\": \"Dover\"})\n",
    "print(f\"Deleted documents: {delete_result.deleted_count}\")"
   ]
  },
  {
   "cell_type": "code",
   "execution_count": 20,
   "id": "2a51aba0",
   "metadata": {},
   "outputs": [
    {
     "name": "stdout",
     "output_type": "stream",
     "text": [
      "Remaining documents with 'Dover': 0\n"
     ]
    }
   ],
   "source": [
    "# Check if any remaining documents include Dover\n",
    "dover_remaining = establishments.count_documents({\"LocalAuthorityName\": \"Dover\"})\n",
    "print(f\"Remaining documents with 'Dover': {dover_remaining}\")"
   ]
  },
  {
   "cell_type": "code",
   "execution_count": 21,
   "id": "8c356f7b",
   "metadata": {},
   "outputs": [
    {
     "name": "stdout",
     "output_type": "stream",
     "text": [
      "Sample document from remaining establishments:\n",
      "{'AddressLine1': 'Wear Bay Road',\n",
      " 'AddressLine2': 'Folkestone',\n",
      " 'AddressLine3': 'Kent',\n",
      " 'AddressLine4': '',\n",
      " 'BusinessName': 'Wear Bay Bowls Club',\n",
      " 'BusinessType': 'Pub/bar/nightclub',\n",
      " 'BusinessTypeID': 7843,\n",
      " 'ChangesByServerID': 0,\n",
      " 'Distance': 4591.821311183521,\n",
      " 'FHRSID': 647177,\n",
      " 'LocalAuthorityBusinessID': 'PI/000041489',\n",
      " 'LocalAuthorityCode': '188',\n",
      " 'LocalAuthorityEmailAddress': 'foodteam@folkestone-hythe.gov.uk',\n",
      " 'LocalAuthorityName': 'Folkestone and Hythe',\n",
      " 'LocalAuthorityWebSite': 'http://www.folkestone-hythe.gov.uk',\n",
      " 'NewRatingPending': False,\n",
      " 'Phone': '',\n",
      " 'PostCode': 'CT19 6PY',\n",
      " 'RatingDate': '2014-03-31T00:00:00',\n",
      " 'RatingKey': 'fhrs_4_en-gb',\n",
      " 'RatingValue': '4',\n",
      " 'RightToReply': '',\n",
      " 'SchemeType': 'FHRS',\n",
      " '_id': ObjectId('6740aa492e0018c3277048a2'),\n",
      " 'geocode': {'latitude': '51.086058', 'longitude': '1.196408'},\n",
      " 'links': [{'href': 'https://api.ratings.food.gov.uk/establishments/647177',\n",
      "            'rel': 'self'}],\n",
      " 'meta': {'dataSource': None,\n",
      "          'extractDate': '0001-01-01T00:00:00',\n",
      "          'itemCount': 0,\n",
      "          'pageNumber': 0,\n",
      "          'pageSize': 0,\n",
      "          'returncode': None,\n",
      "          'totalCount': 0,\n",
      "          'totalPages': 0},\n",
      " 'scores': {'ConfidenceInManagement': 10, 'Hygiene': 5, 'Structural': 5}}\n"
     ]
    }
   ],
   "source": [
    "# Check that other documents remain with 'find_one'\n",
    "print(\"Sample document from remaining establishments:\")\n",
    "pprint(establishments.find_one())"
   ]
  },
  {
   "attachments": {},
   "cell_type": "markdown",
   "id": "e9f1662d",
   "metadata": {},
   "source": [
    "5. Some of the number values are stored as strings, when they should be stored as numbers."
   ]
  },
  {
   "attachments": {},
   "cell_type": "markdown",
   "id": "c46df2df",
   "metadata": {},
   "source": [
    "Use `update_many` to convert `latitude` and `longitude` to decimal numbers."
   ]
  },
  {
   "cell_type": "code",
   "execution_count": 22,
   "id": "fd4112ce",
   "metadata": {},
   "outputs": [
    {
     "data": {
      "text/plain": [
       "UpdateResult({'n': 77571, 'nModified': 77570, 'ok': 1.0, 'updatedExisting': True}, acknowledged=True)"
      ]
     },
     "execution_count": 22,
     "metadata": {},
     "output_type": "execute_result"
    }
   ],
   "source": [
    "from bson.decimal128 import Decimal128\n",
    "# Change the data type from String to Decimal for longitude and latitude\n",
    "# Change latitude and longitude to Decimal\n",
    "establishments.update_many(\n",
    "    {},\n",
    "    [\n",
    "        {\"$set\": {\n",
    "            \"geocode.longitude\": {\"$convert\": {\"input\": \"$geocode.longitude\", \"to\": \"decimal\"}},\n",
    "            \"geocode.latitude\": {\"$convert\": {\"input\": \"$geocode.latitude\", \"to\": \"decimal\"}}\n",
    "        }}\n",
    "    ]\n",
    ")"
   ]
  },
  {
   "attachments": {},
   "cell_type": "markdown",
   "id": "142e319c",
   "metadata": {},
   "source": [
    "Use `update_many` to convert `RatingValue` to integer numbers."
   ]
  },
  {
   "cell_type": "code",
   "execution_count": 23,
   "id": "04430a5b",
   "metadata": {},
   "outputs": [
    {
     "data": {
      "text/plain": [
       "UpdateResult({'n': 8183, 'nModified': 8183, 'ok': 1.0, 'updatedExisting': True}, acknowledged=True)"
      ]
     },
     "execution_count": 23,
     "metadata": {},
     "output_type": "execute_result"
    }
   ],
   "source": [
    "# Set non 1-5 Rating Values to Null\n",
    "non_ratings = [\"AwaitingInspection\", \"Awaiting Inspection\", \"AwaitingPublication\", \"Pass\", \"Exempt\"]\n",
    "establishments.update_many({\"RatingValue\": {\"$in\": non_ratings}}, [ {'$set':{ \"RatingValue\" : None}} ])"
   ]
  },
  {
   "cell_type": "code",
   "execution_count": 24,
   "id": "92524ccc",
   "metadata": {},
   "outputs": [
    {
     "data": {
      "text/plain": [
       "UpdateResult({'n': 69388, 'nModified': 69388, 'ok': 1.0, 'updatedExisting': True}, acknowledged=True)"
      ]
     },
     "execution_count": 24,
     "metadata": {},
     "output_type": "execute_result"
    }
   ],
   "source": [
    "# Change the data type from String to Integer for RatingValue\n",
    "non_ratings = [\"AwaitingInspection\", \"Awaiting Inspection\", \"AwaitingPublication\", \"Pass\", \"Exempt\"]\n",
    "establishments.update_many(\n",
    "    {\"RatingValue\": {\"$in\": non_ratings}},\n",
    "    [{\"$set\": {\"RatingValue\": None}}]\n",
    ")\n",
    "establishments.update_many(\n",
    "    {\"RatingValue\": {\"$type\": \"string\"}},\n",
    "    [{\"$set\": {\"RatingValue\": {\"$toInt\": \"$RatingValue\"}}}]\n",
    ")"
   ]
  },
  {
   "cell_type": "code",
   "execution_count": 25,
   "id": "0deacaf9",
   "metadata": {},
   "outputs": [
    {
     "name": "stdout",
     "output_type": "stream",
     "text": [
      "Updated sample document:\n",
      "{'AddressLine1': 'Wear Bay Road',\n",
      " 'AddressLine2': 'Folkestone',\n",
      " 'AddressLine3': 'Kent',\n",
      " 'AddressLine4': '',\n",
      " 'BusinessName': 'Wear Bay Bowls Club',\n",
      " 'BusinessType': 'Pub/bar/nightclub',\n",
      " 'BusinessTypeID': 7843,\n",
      " 'ChangesByServerID': 0,\n",
      " 'Distance': 4591.821311183521,\n",
      " 'FHRSID': 647177,\n",
      " 'LocalAuthorityBusinessID': 'PI/000041489',\n",
      " 'LocalAuthorityCode': '188',\n",
      " 'LocalAuthorityEmailAddress': 'foodteam@folkestone-hythe.gov.uk',\n",
      " 'LocalAuthorityName': 'Folkestone and Hythe',\n",
      " 'LocalAuthorityWebSite': 'http://www.folkestone-hythe.gov.uk',\n",
      " 'NewRatingPending': False,\n",
      " 'Phone': '',\n",
      " 'PostCode': 'CT19 6PY',\n",
      " 'RatingDate': '2014-03-31T00:00:00',\n",
      " 'RatingKey': 'fhrs_4_en-gb',\n",
      " 'RatingValue': 4,\n",
      " 'RightToReply': '',\n",
      " 'SchemeType': 'FHRS',\n",
      " '_id': ObjectId('6740aa492e0018c3277048a2'),\n",
      " 'geocode': {'latitude': Decimal128('51.086058'),\n",
      "             'longitude': Decimal128('1.196408')},\n",
      " 'links': [{'href': 'https://api.ratings.food.gov.uk/establishments/647177',\n",
      "            'rel': 'self'}],\n",
      " 'meta': {'dataSource': None,\n",
      "          'extractDate': '0001-01-01T00:00:00',\n",
      "          'itemCount': 0,\n",
      "          'pageNumber': 0,\n",
      "          'pageSize': 0,\n",
      "          'returncode': None,\n",
      "          'totalCount': 0,\n",
      "          'totalPages': 0},\n",
      " 'scores': {'ConfidenceInManagement': 10, 'Hygiene': 5, 'Structural': 5}}\n"
     ]
    }
   ],
   "source": [
    "# Check that the coordinates and rating value are now numbers\n",
    "print(\"Updated sample document:\")\n",
    "pprint(establishments.find_one())"
   ]
  }
 ],
 "metadata": {
  "kernelspec": {
   "display_name": "base",
   "language": "python",
   "name": "python3"
  },
  "language_info": {
   "codemirror_mode": {
    "name": "ipython",
    "version": 3
   },
   "file_extension": ".py",
   "mimetype": "text/x-python",
   "name": "python",
   "nbconvert_exporter": "python",
   "pygments_lexer": "ipython3",
   "version": "3.12.4"
  }
 },
 "nbformat": 4,
 "nbformat_minor": 5
}
